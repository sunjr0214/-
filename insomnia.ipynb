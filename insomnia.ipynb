{
 "cells": [
  {
   "cell_type": "code",
   "execution_count": 1,
   "metadata": {},
   "outputs": [],
   "source": [
    "import os\n",
    "import time\n",
    "import pandas as pd\n",
    "import re"
   ]
  },
  {
   "cell_type": "code",
   "execution_count": 2,
   "metadata": {},
   "outputs": [],
   "source": [
    "# 功能函数\n",
    "def save2Excel(outputFile, sheetDict):\n",
    "    currTime = time.time()\n",
    "    with pd.ExcelWriter(outputFile) as writer:\n",
    "        for sheetName, resDF in sheetDict.items():\n",
    "            resDF.to_excel(writer, sheet_name=sheetName, index=False, header=True, encoding=\"utf-8\")\n",
    "    print(\">>报表已保存至：{}\".format(outputFile))"
   ]
  },
  {
   "cell_type": "code",
   "execution_count": 3,
   "metadata": {},
   "outputs": [],
   "source": [
    "def medicineStat(series):\n",
    "    '''自定义统计各种药的次数'''\n",
    "    cnt_dict = {} \n",
    "    pattern = r'各?\\d*g'\n",
    "    try:\n",
    "        for row in series:\n",
    "            medicine_list = row.split(',')\n",
    "            for medicine in medicine_list:\n",
    "                medicine = medicine.strip()\n",
    "                medicine = re.sub(pattern, '', medicine).strip()  # 格式化\n",
    "                if medicine not in cnt_dict:\n",
    "                    cnt_dict[medicine] = 1\n",
    "                else:\n",
    "                    cnt_dict[medicine] += 1\n",
    "        df = pd.DataFrame.from_dict(cnt_dict, orient='index').reset_index().rename(columns ={'index':'药物',0:'药物频次'})\n",
    "\n",
    "        return df\n",
    "    except Exception as e:\n",
    "        raise Exception(\"方法出错，number={},请检查{}\".format(row, e))\n",
    "\n",
    "def stat_further(df,target_df,target_name,medicine_topn):\n",
    "    target_df[['高频药味数','高频药频次']+medicine_topn] = 0\n",
    "    pattern = r'各?\\d*g'\n",
    "    for row_num1 in range(target_df.shape[0]):\n",
    "        df_rows = df[df[target_name] == target_df.loc[row_num1,target_name]]\n",
    "        for row_num2 in range(df_rows.shape[0]):  # 统计该证型/处方下，频次最高的前n味药的出现次数\n",
    "            medicine_list = df_rows.reset_index(drop=True).loc[row_num2,'药物'].split(',')\n",
    "            for medicine in medicine_list:\n",
    "                medicine = medicine.strip()\n",
    "                medicine = re.sub(pattern, '', medicine).strip()  # 格式化\n",
    "                if medicine in medicine_topn:\n",
    "                    target_df.loc[row_num1,medicine] += 1  # 累计高频药的频次\n",
    "        # 计算该证型/处方下，高频药的总味数\n",
    "        target_df.loc[row_num1,'高频药味数'] = target_df.loc[row_num1,medicine_topn][target_df.loc[row_num1,medicine_topn]>0].count()  \n",
    "        # 计算该证型/处方下，高频药的总频次\n",
    "        target_df.loc[row_num1,'高频药频次'] = target_df.loc[row_num1,medicine_topn].sum()  \n",
    "    \n",
    "def stat_init(inputFile, topn):\n",
    "    df = pd.read_excel(inputFile)[['证型', '处方','药物']]\n",
    "    \n",
    "    syndrome_type_stat_df = df['证型'].value_counts().to_frame()         # 统计各证型出现频次\n",
    "    syndrome_type_stat_df = syndrome_type_stat_df.reset_index().rename(columns ={'index':'证型','证型':'证型频次'})\n",
    "    prescription_stat_df = df['处方'].value_counts().to_frame()          # 统计各处方出现频次\n",
    "    prescription_stat_df = prescription_stat_df.reset_index().rename(columns ={'index':'处方','处方':'处方频次'})\n",
    "    medicine_stat_df = medicineStat(df['药物'])                          # 统计各药物出现频次\n",
    "    medicine_stat_df.sort_values(by=['药物频次'], ascending=[False], inplace=True)  # 按照频次降序排序\n",
    "    medicine_stat_df = medicine_stat_df.reset_index(drop=True)\n",
    "   \n",
    "    medicine_topn = list(medicine_stat_df.loc[:topn-1,'药物'])   # 筛选出现频次最高的前n味药（高频药）\n",
    "    stat_further(df,syndrome_type_stat_df,'证型',medicine_topn)  # 统计该证型下的高频药\n",
    "    stat_further(df,prescription_stat_df,'处方',medicine_topn)   # 统计该处方下的高频药\n",
    "        \n",
    "    return syndrome_type_stat_df,prescription_stat_df,medicine_stat_df"
   ]
  },
  {
   "cell_type": "code",
   "execution_count": 4,
   "metadata": {},
   "outputs": [],
   "source": [
    "# 参数\n",
    "inputFile = r'C:\\Users\\sunjr\\Desktop\\宝贝\\原发性失眠数据挖掘\\原发性失眠.xlsx'\n",
    "outputFile = r'C:\\Users\\sunjr\\Desktop\\宝贝\\原发性失眠数据挖掘\\result.xlsx'\n",
    "topn = 10  # 出现频次最高的前n味药"
   ]
  },
  {
   "cell_type": "code",
   "execution_count": 5,
   "metadata": {},
   "outputs": [
    {
     "name": "stdout",
     "output_type": "stream",
     "text": [
      ">>报表已保存至：C:\\Users\\sunjr\\Desktop\\宝贝\\原发性失眠数据挖掘\\result.xlsx\n"
     ]
    }
   ],
   "source": [
    "# main\n",
    "syndrome_type_stat_df,prescription_stat_df,medicine_stat_df = stat_init(inputFile, topn)\n",
    "sheetDict = {'各证型频次统计': syndrome_type_stat_df,'各处方频次统计':prescription_stat_df,'各药物频次统计':medicine_stat_df}\n",
    "save2Excel(outputFile, sheetDict)"
   ]
  },
  {
   "cell_type": "code",
   "execution_count": null,
   "metadata": {},
   "outputs": [],
   "source": []
  },
  {
   "cell_type": "code",
   "execution_count": null,
   "metadata": {},
   "outputs": [],
   "source": []
  }
 ],
 "metadata": {
  "kernelspec": {
   "display_name": "Python 3",
   "language": "python",
   "name": "python3"
  },
  "language_info": {
   "codemirror_mode": {
    "name": "ipython",
    "version": 3
   },
   "file_extension": ".py",
   "mimetype": "text/x-python",
   "name": "python",
   "nbconvert_exporter": "python",
   "pygments_lexer": "ipython3",
   "version": "3.7.3"
  }
 },
 "nbformat": 4,
 "nbformat_minor": 2
}
